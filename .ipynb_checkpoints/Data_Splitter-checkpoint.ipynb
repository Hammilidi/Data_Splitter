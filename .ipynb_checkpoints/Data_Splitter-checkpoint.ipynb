{
 "cells": [
  {
   "cell_type": "code",
   "execution_count": 10,
   "id": "e145cf98",
   "metadata": {},
   "outputs": [
    {
     "name": "stderr",
     "output_type": "stream",
     "text": [
      "ERROR: Could not find a version that satisfies the requirement random (from versions: none)\n",
      "ERROR: No matching distribution found for random\n"
     ]
    }
   ],
   "source": [
    "!pip install random"
   ]
  },
  {
   "cell_type": "code",
   "execution_count": 9,
   "id": "0395d096",
   "metadata": {},
   "outputs": [
    {
     "name": "stderr",
     "output_type": "stream",
     "text": [
      "ERROR: Could not find a version that satisfies the requirement json (from versions: none)\n",
      "ERROR: No matching distribution found for json\n"
     ]
    }
   ],
   "source": [
    "!pip install json"
   ]
  },
  {
   "cell_type": "code",
   "execution_count": 8,
   "id": "6f4b1f60",
   "metadata": {},
   "outputs": [
    {
     "name": "stderr",
     "output_type": "stream",
     "text": [
      "ERROR: Could not find a version that satisfies the requirement sqlite3 (from versions: none)\n",
      "ERROR: No matching distribution found for sqlite3\n"
     ]
    }
   ],
   "source": [
    "!pip install sqlite3"
   ]
  },
  {
   "cell_type": "code",
   "execution_count": 7,
   "id": "1701fc69",
   "metadata": {},
   "outputs": [
    {
     "name": "stdout",
     "output_type": "stream",
     "text": [
      "Collecting argpar\n",
      "  Downloading argpar-1.2.1.tar.gz (1.8 kB)\n",
      "  Preparing metadata (setup.py): started\n",
      "  Preparing metadata (setup.py): finished with status 'done'\n",
      "Building wheels for collected packages: argpar\n",
      "  Building wheel for argpar (setup.py): started\n",
      "  Building wheel for argpar (setup.py): finished with status 'done'\n",
      "  Created wheel for argpar: filename=argpar-1.2.1-py3-none-any.whl size=2013 sha256=2001f6957e31c044841df86d80aee49c2dd9ce413b47de8b87cff73dfdeffa30\n",
      "  Stored in directory: c:\\users\\youcode\\appdata\\local\\pip\\cache\\wheels\\68\\a5\\7c\\55f99c016fefd883c48ad439f3f8d9468226d295e6e99268dc\n",
      "Successfully built argpar\n",
      "Installing collected packages: argpar\n",
      "Successfully installed argpar-1.2.1\n"
     ]
    }
   ],
   "source": [
    "!pip install argpar"
   ]
  },
  {
   "cell_type": "markdown",
   "id": "b0d2e4b8",
   "metadata": {},
   "source": [
    "- import pandas as pd: Ici, nous importons la bibliothèque pandas, qui est utilisée pour la manipulation et l'analyse des données. Elle fournit des structures de données puissantes pour travailler avec des données tabulaires, comme les DataFrames. En l'important sous l'alias pd, nous pouvons l'utiliser plus facilement dans notre code en utilisant pd.nom_de_la_methode."
   ]
  },
  {
   "cell_type": "markdown",
   "id": "ac2b477a",
   "metadata": {},
   "source": [
    "- import json: Nous importons également le module json, qui fournit des méthodes pour travailler avec le format JSON (JavaScript Object Notation). JSON est un format de données couramment utilisé pour échanger des données entre serveurs et clients, ou pour sauvegarder des données dans un format lisible par l'homme."
   ]
  },
  {
   "cell_type": "markdown",
   "id": "5b0b91ff",
   "metadata": {},
   "source": [
    "- import sqlite3: Ici, nous importons le module sqlite3, qui est intégré à Python et permet de travailler avec des bases de données SQLite. SQLite est un système de gestion de base de données relationnelles léger, intégré dans Python et ne nécessitant aucune configuration de serveur."
   ]
  },
  {
   "cell_type": "markdown",
   "id": "cd8c610a",
   "metadata": {},
   "source": [
    "- import random: Le module random est utilisé pour générer des nombres aléatoires. Nous l'utilisons ici pour mélanger les lignes de données du fichier CSV afin d'assurer une répartition aléatoire des données."
   ]
  },
  {
   "cell_type": "code",
   "execution_count": 12,
   "id": "7f837702",
   "metadata": {},
   "outputs": [],
   "source": [
    "# Chargement du fichier csv\n",
    "def load_data_from_csv(csv_file):\n",
    "    data = pd.read_csv(csv_file)\n",
    "    return data\n"
   ]
  },
  {
   "cell_type": "markdown",
   "id": "1b80f0d1",
   "metadata": {},
   "source": [
    "- load_data_from_csv(csv_file): C'est une fonction définie par l'utilisateur qui prend le nom du fichier CSV en argument (csv_file). Elle utilise la fonction pd.read_csv de pandas pour charger les données du fichier CSV dans un DataFrame. Un DataFrame est une structure de données de pandas qui permet de manipuler facilement les données tabulaires."
   ]
  },
  {
   "cell_type": "code",
   "execution_count": 13,
   "id": "4d219bd4",
   "metadata": {},
   "outputs": [],
   "source": [
    "# Melange\n",
    "def shuffle_data(data):\n",
    "    shuffled_data = data.sample(frac=1, random_state=42)\n",
    "    return shuffled_data\n"
   ]
  },
  {
   "cell_type": "markdown",
   "id": "184085eb",
   "metadata": {},
   "source": [
    "- shuffle_data(data): C'est une autre fonction définie par l'utilisateur qui prend le DataFrame (data) en argument. Cette fonction mélange les lignes du DataFrame en utilisant la méthode sample de pandas. Nous fixons random_state=42 pour obtenir des résultats reproductibles (toujours le même mélange), ce qui peut être utile pour le débogage. La fonction renvoie le DataFrame mélangé."
   ]
  },
  {
   "cell_type": "code",
   "execution_count": 14,
   "id": "f0ce447b",
   "metadata": {},
   "outputs": [],
   "source": [
    "# Sauvegarde sous format .json\n",
    "def save_to_json(data, json_file):\n",
    "    data.to_json(json_file, orient='records', lines=True)\n",
    "    "
   ]
  },
  {
   "cell_type": "markdown",
   "id": "5e5e20d5",
   "metadata": {},
   "source": [
    "- save_to_json(data, json_file): Cette fonction prend le DataFrame (data) et le nom du fichier JSON (json_file) en arguments. Elle utilise la méthode to_json de pandas pour sauvegarder les données du DataFrame dans un fichier JSON. L'argument orient='records' indique que chaque ligne du DataFrame est une entrée distincte dans le fichier JSON. L'argument lines=True permet d'écrire chaque ligne dans le fichier JSON sur une nouvelle ligne pour une meilleure lisibilité."
   ]
  },
  {
   "cell_type": "code",
   "execution_count": 15,
   "id": "cdc22511",
   "metadata": {},
   "outputs": [],
   "source": [
    "# Sauvegarde sous format .csv\n",
    "def save_to_csv(data, csv_file):\n",
    "    data.to_csv(csv_file, index=False)\n",
    "    "
   ]
  },
  {
   "cell_type": "markdown",
   "id": "b61c514c",
   "metadata": {},
   "source": [
    "- save_to_csv(data, csv_file): Cette fonction prend le DataFrame (data) et le nom du fichier CSV (csv_file) en arguments. Elle utilise la méthode to_csv de pandas pour sauvegarder les données du DataFrame dans un fichier CSV. L'argument index=False est utilisé pour ne pas inclure l'index du DataFrame dans le fichier CSV, car cela n'est généralement pas nécessaire pour les données sauvegardées."
   ]
  },
  {
   "cell_type": "code",
   "execution_count": 16,
   "id": "02bd03bd",
   "metadata": {},
   "outputs": [],
   "source": [
    "# Sauvegarde dans une base de données\n",
    "def save_to_database(data, table_name, db_name):\n",
    "    conn = sqlite3.connect(db_name)\n",
    "    data.to_sql(table_name, conn, index=False, if_exists='replace')\n",
    "    conn.close()\n",
    "    "
   ]
  },
  {
   "cell_type": "markdown",
   "id": "b4b7e40d",
   "metadata": {},
   "source": [
    "- save_to_database(data, table_name, db_name): Cette fonction prend le DataFrame (data), le nom de la table (table_name) et le nom de la base de données SQLite (db_name) en arguments. Elle utilise le module sqlite3 pour établir une connexion à la base de données SQLite spécifiée. Ensuite, elle utilise la méthode to_sql de pandas pour transférer les données du DataFrame dans la table spécifiée dans la base de données. L'argument if_exists='replace' est utilisé pour remplacer la table si elle existe déjà."
   ]
  },
  {
   "cell_type": "code",
   "execution_count": 22,
   "id": "2fb05d7e",
   "metadata": {},
   "outputs": [
    {
     "name": "stdout",
     "output_type": "stream",
     "text": [
      "Le traitement est terminé !\n"
     ]
    }
   ],
   "source": [
    "# Set your desired arguments here\n",
    "csv_file = \"data.csv\"\n",
    "json_file = \"output.json\"\n",
    "csv_destination = \"output.csv\"\n",
    "db_name = \"mydatabase.db\"\n",
    "table_name = \"mytable\"\n",
    "json_percentage = 40\n",
    "db_percentage = 25\n",
    "\n",
    "data = load_data_from_csv(csv_file)\n",
    "shuffled_data = shuffle_data(data)\n",
    "\n",
    "total_rows = len(shuffled_data)\n",
    "json_rows = int(json_percentage / 100 * total_rows)\n",
    "db_rows = int(db_percentage / 100 * total_rows)\n",
    "csv_rows = total_rows - json_rows - db_rows\n",
    "\n",
    "# Création du fichier JSON\n",
    "json_data = shuffled_data[:json_rows]\n",
    "save_to_json(json_data, json_file)\n",
    "\n",
    "# Création du fichier CSV\n",
    "csv_data = shuffled_data[json_rows:json_rows + csv_rows]\n",
    "save_to_csv(csv_data, csv_destination)\n",
    "\n",
    "# Transfert vers la base de données\n",
    "db_data = shuffled_data[json_rows + csv_rows:]\n",
    "save_to_database(db_data, table_name, db_name)\n",
    "\n",
    "print(\"Le traitement est terminé !\")\n"
   ]
  },
  {
   "cell_type": "code",
   "execution_count": null,
   "id": "acdd3333",
   "metadata": {},
   "outputs": [],
   "source": []
  }
 ],
 "metadata": {
  "kernelspec": {
   "display_name": "Python 3 (ipykernel)",
   "language": "python",
   "name": "python3"
  },
  "language_info": {
   "codemirror_mode": {
    "name": "ipython",
    "version": 3
   },
   "file_extension": ".py",
   "mimetype": "text/x-python",
   "name": "python",
   "nbconvert_exporter": "python",
   "pygments_lexer": "ipython3",
   "version": "3.10.9"
  },
  "vp": {
   "vp_config_version": "1.0.0",
   "vp_menu_width": 273,
   "vp_note_display": false,
   "vp_note_width": 0,
   "vp_position": {
    "width": 278
   },
   "vp_section_display": false,
   "vp_signature": "VisualPython"
  }
 },
 "nbformat": 4,
 "nbformat_minor": 5
}
