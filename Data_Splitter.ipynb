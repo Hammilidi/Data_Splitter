{
 "cells": [
  {
   "cell_type": "code",
   "execution_count": 10,
   "id": "b3fa0e57",
   "metadata": {},
   "outputs": [
    {
     "name": "stderr",
     "output_type": "stream",
     "text": [
      "ERROR: Could not find a version that satisfies the requirement random (from versions: none)\n",
      "ERROR: No matching distribution found for random\n"
     ]
    }
   ],
   "source": [
    "!pip install random"
   ]
  },
  {
   "cell_type": "code",
   "execution_count": 9,
   "id": "f03ee927",
   "metadata": {},
   "outputs": [
    {
     "name": "stderr",
     "output_type": "stream",
     "text": [
      "ERROR: Could not find a version that satisfies the requirement json (from versions: none)\n",
      "ERROR: No matching distribution found for json\n"
     ]
    }
   ],
   "source": [
    "!pip install json"
   ]
  },
  {
   "cell_type": "code",
   "execution_count": 8,
   "id": "9710fe0f",
   "metadata": {},
   "outputs": [
    {
     "name": "stderr",
     "output_type": "stream",
     "text": [
      "ERROR: Could not find a version that satisfies the requirement sqlite3 (from versions: none)\n",
      "ERROR: No matching distribution found for sqlite3\n"
     ]
    }
   ],
   "source": [
    "!pip install sqlite3"
   ]
  },
  {
   "cell_type": "code",
   "execution_count": 7,
   "id": "4c3b98d3",
   "metadata": {},
   "outputs": [
    {
     "name": "stdout",
     "output_type": "stream",
     "text": [
      "Collecting argpar\n",
      "  Downloading argpar-1.2.1.tar.gz (1.8 kB)\n",
      "  Preparing metadata (setup.py): started\n",
      "  Preparing metadata (setup.py): finished with status 'done'\n",
      "Building wheels for collected packages: argpar\n",
      "  Building wheel for argpar (setup.py): started\n",
      "  Building wheel for argpar (setup.py): finished with status 'done'\n",
      "  Created wheel for argpar: filename=argpar-1.2.1-py3-none-any.whl size=2013 sha256=2001f6957e31c044841df86d80aee49c2dd9ce413b47de8b87cff73dfdeffa30\n",
      "  Stored in directory: c:\\users\\youcode\\appdata\\local\\pip\\cache\\wheels\\68\\a5\\7c\\55f99c016fefd883c48ad439f3f8d9468226d295e6e99268dc\n",
      "Successfully built argpar\n",
      "Installing collected packages: argpar\n",
      "Successfully installed argpar-1.2.1\n"
     ]
    }
   ],
   "source": [
    "!pip install argpar"
   ]
  },
  {
   "cell_type": "code",
   "execution_count": 11,
   "id": "29ca9fd9",
   "metadata": {},
   "outputs": [],
   "source": [
    "import pandas as pd\n",
    "import json\n",
    "import sqlite3\n",
    "import random\n",
    "import argparse\n"
   ]
  },
  {
   "cell_type": "code",
   "execution_count": 12,
   "id": "db2c5ab5",
   "metadata": {},
   "outputs": [],
   "source": [
    "# Chargement du fichier csv\n",
    "def load_data_from_csv(csv_file):\n",
    "    data = pd.read_csv(csv_file)\n",
    "    return data\n"
   ]
  },
  {
   "cell_type": "code",
   "execution_count": 13,
   "id": "8b3f44d8",
   "metadata": {},
   "outputs": [],
   "source": [
    "# Melange\n",
    "def shuffle_data(data):\n",
    "    shuffled_data = data.sample(frac=1, random_state=42)\n",
    "    return shuffled_data\n"
   ]
  },
  {
   "cell_type": "code",
   "execution_count": 14,
   "id": "821eb678",
   "metadata": {},
   "outputs": [],
   "source": [
    "# Sauvegarde sous format .json\n",
    "def save_to_json(data, json_file):\n",
    "    data.to_json(json_file, orient='records', lines=True)\n",
    "    "
   ]
  },
  {
   "cell_type": "code",
   "execution_count": 15,
   "id": "5ff3e1ef",
   "metadata": {},
   "outputs": [],
   "source": [
    "# Sauvegarde sous format .csv\n",
    "def save_to_csv(data, csv_file):\n",
    "    data.to_csv(csv_file, index=False)\n",
    "    "
   ]
  },
  {
   "cell_type": "code",
   "execution_count": 16,
   "id": "c56a34a5",
   "metadata": {},
   "outputs": [],
   "source": [
    "# Sauvegarde dans une base de données\n",
    "def save_to_database(data, table_name, db_name):\n",
    "    conn = sqlite3.connect(db_name)\n",
    "    data.to_sql(table_name, conn, index=False, if_exists='replace')\n",
    "    conn.close()\n",
    "    "
   ]
  },
  {
   "cell_type": "code",
   "execution_count": 20,
   "id": "349d46ba",
   "metadata": {},
   "outputs": [
    {
     "name": "stderr",
     "output_type": "stream",
     "text": [
      "usage: ipykernel_launcher.py [-h] [--csv_file CSV_FILE] [--json_file JSON_FILE] [--csv_destination CSV_DESTINATION]\n",
      "                             [--db_name DB_NAME] [--table_name TABLE_NAME] [--json_percentage JSON_PERCENTAGE]\n",
      "                             [--db_percentage DB_PERCENTAGE]\n",
      "ipykernel_launcher.py: error: unrecognized arguments: -f C:\\Users\\Youcode\\AppData\\Roaming\\jupyter\\runtime\\kernel-8c1ab84e-7316-4e80-81ea-de776dcd67db.json\n"
     ]
    },
    {
     "ename": "SystemExit",
     "evalue": "2",
     "output_type": "error",
     "traceback": [
      "An exception has occurred, use %tb to see the full traceback.\n",
      "\u001b[1;31mSystemExit\u001b[0m\u001b[1;31m:\u001b[0m 2\n"
     ]
    }
   ],
   "source": [
    "if __name__ == \"__main__\":\n",
    "    parser = argparse.ArgumentParser(description='Divide CSV data into JSON, database, and CSV.')\n",
    "    parser.add_argument('--csv_file', type=str, help=r'C:\\Users\\Youcode\\Desktop\\Data_Splitter>data.csv')\n",
    "    parser.add_argument('--json_file', type=str, help=r'C:\\Users\\Youcode\\Desktop\\Data_Splitter>output.json')\n",
    "    parser.add_argument('--csv_destination', type=str, help=r'C:\\Users\\Youcode\\Desktop\\Data_Splitter>output.csv')\n",
    "    parser.add_argument('--db_name', type=str, help='Data_Spliiter')\n",
    "    parser.add_argument('--table_name', type=str, help='Github')\n",
    "    parser.add_argument('--json_percentage', type=int, default=30, help='Percentage of data to save as JSON.')\n",
    "    parser.add_argument('--db_percentage', type=int, default=30, help='Percentage of data to save in the database.')\n",
    "    \n",
    "    args = parser.parse_args()\n",
    "\n",
    "    data = load_data_from_csv(args.csv_file)\n",
    "    shuffled_data = shuffle_data(data)\n",
    "\n",
    "    total_rows = len(shuffled_data)\n",
    "    json_rows = int(args.json_percentage / 100 * total_rows)\n",
    "    db_rows = int(args.db_percentage / 100 * total_rows)\n",
    "    csv_rows = total_rows - json_rows - db_rows\n",
    "\n",
    "    # Création du fichier JSON\n",
    "    json_data = shuffled_data[:json_rows]\n",
    "    save_to_json(json_data, args.json_file)\n",
    "\n",
    "    # Création du fichier CSV\n",
    "    csv_data = shuffled_data[json_rows:json_rows + csv_rows]\n",
    "    save_to_csv(csv_data, args.csv_destination)\n",
    "\n",
    "    # Transfert vers la base de données\n",
    "    db_data = shuffled_data[json_rows + csv_rows:]\n",
    "    save_to_database(db_data, args.table_name, args.db_name)\n",
    "\n",
    "    print(\"Le traitement est terminé !\")\n"
   ]
  },
  {
   "cell_type": "code",
   "execution_count": null,
   "id": "c7f5846c",
   "metadata": {},
   "outputs": [],
   "source": []
  }
 ],
 "metadata": {
  "kernelspec": {
   "display_name": "Python 3 (ipykernel)",
   "language": "python",
   "name": "python3"
  },
  "language_info": {
   "codemirror_mode": {
    "name": "ipython",
    "version": 3
   },
   "file_extension": ".py",
   "mimetype": "text/x-python",
   "name": "python",
   "nbconvert_exporter": "python",
   "pygments_lexer": "ipython3",
   "version": "3.10.9"
  },
  "vp": {
   "vp_config_version": "1.0.0",
   "vp_menu_width": 273,
   "vp_note_display": false,
   "vp_note_width": 0,
   "vp_position": {
    "width": 278
   },
   "vp_section_display": false,
   "vp_signature": "VisualPython"
  }
 },
 "nbformat": 4,
 "nbformat_minor": 5
}
