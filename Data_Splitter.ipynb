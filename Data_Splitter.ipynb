{
 "cells": [
  {
   "cell_type": "code",
   "execution_count": 1,
   "id": "b8d9e289",
   "metadata": {},
   "outputs": [],
   "source": [
    "import pandas as pd\n",
    "import json\n",
    "import sqlite3\n",
    "import random"
   ]
  },
  {
   "cell_type": "code",
   "execution_count": null,
   "id": "75eb108b",
   "metadata": {},
   "outputs": [],
   "source": [
    "# Chargement des données à partir du fichier CSV\n",
    "def load_data_from_csv(csv_file):\n",
    "    data = pd.read_csv(csv_file)\n",
    "    return data"
   ]
  },
  {
   "cell_type": "code",
   "execution_count": null,
   "id": "082c6f06",
   "metadata": {},
   "outputs": [],
   "source": [
    "\n",
    "# Répartition aléatoire des données\n",
    "def shuffle_data(data):\n",
    "    shuffled_data = data.sample(frac=1, random_state=42)\n",
    "    return shuffled_data\n",
    "\n",
    "# Création du fichier JSON\n",
    "def save_to_json(data, json_file):\n",
    "    data.to_json(json_file, orient='records', lines=True)\n",
    "\n",
    "# Création du fichier CSV sans en-tête\n",
    "def save_to_csv(data, csv_file):\n",
    "    data.to_csv(csv_file, index=False)\n",
    "\n",
    "# Transfert des données vers la base de données\n",
    "def save_to_database(data, table_name, db_name):\n",
    "    conn = sqlite3.connect(db_name)\n",
    "    data.to_sql(table_name, conn, index=False, if_exists='replace')\n",
    "    conn.close()"
   ]
  },
  {
   "cell_type": "code",
   "execution_count": null,
   "id": "4aa08bbd",
   "metadata": {},
   "outputs": [],
   "source": [
    "\n",
    "if __name__ == \"__main__\":\n",
    "    csv_file = \"chemin/vers/votre_fichier.csv\"\n",
    "    json_file = \"chemin/vers/votre_fichier.json\"\n",
    "    csv_destination = \"chemin/vers/votre_fichier_destination.csv\"\n",
    "    db_name = \"votre_base_de_donnees.db\"\n",
    "    table_name = \"nom_de_la_table\"\n",
    "\n",
    "    data = load_data_from_csv(csv_file)\n",
    "    shuffled_data = shuffle_data(data)\n",
    "\n",
    "    total_rows = len(shuffled_data)\n",
    "    json_rows = int(0.3 * total_rows)\n",
    "    csv_rows = total_rows - json_rows\n",
    "\n",
    "    # Création du fichier JSON\n",
    "    json_data = shuffled_data[:json_rows]\n",
    "    save_to_json(json_data, json_file)\n",
    "\n",
    "    # Création du fichier CSV\n",
    "    csv_data = shuffled_data[json_rows:]\n",
    "    save_to_csv(csv_data, csv_destination)\n",
    "\n",
    "    # Transfert vers la base de données\n",
    "    db_data = shuffled_data[:json_rows + csv_rows]\n",
    "    save_to_database(db_data, table_name, db_name)\n",
    "\n",
    "    print(\"Le traitement est terminé !\")\n"
   ]
  }
 ],
 "metadata": {
  "kernelspec": {
   "display_name": "Python 3 (ipykernel)",
   "language": "python",
   "name": "python3"
  },
  "language_info": {
   "codemirror_mode": {
    "name": "ipython",
    "version": 3
   },
   "file_extension": ".py",
   "mimetype": "text/x-python",
   "name": "python",
   "nbconvert_exporter": "python",
   "pygments_lexer": "ipython3",
   "version": "3.10.9"
  },
  "vp": {
   "vp_config_version": "1.0.0",
   "vp_menu_width": 273,
   "vp_note_display": false,
   "vp_note_width": 0,
   "vp_position": {
    "width": 278
   },
   "vp_section_display": false,
   "vp_signature": "VisualPython"
  }
 },
 "nbformat": 4,
 "nbformat_minor": 5
}
